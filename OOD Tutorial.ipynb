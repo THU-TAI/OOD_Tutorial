{
 "cells": [
  {
   "cell_type": "code",
   "execution_count": null,
   "metadata": {},
   "outputs": [],
   "source": [
    "import torch\n",
    "import model\n",
    "import helper"
   ]
  },
  {
   "cell_type": "code",
   "execution_count": null,
   "metadata": {},
   "outputs": [],
   "source": [
    "args = helper.Args()\n",
    "helper.fix_seed(0)\n",
    "device = torch.device(\"cuda:%d\"%args.gpu_id if torch.cuda.is_available() else \"cpu\")"
   ]
  },
  {
   "cell_type": "code",
   "execution_count": null,
   "metadata": {},
   "outputs": [],
   "source": [
    "my_model = model.ERM(args.num_classes, args)\n",
    "my_model.to(device)"
   ]
  },
  {
   "cell_type": "code",
   "execution_count": null,
   "metadata": {},
   "outputs": [],
   "source": [
    "train_dataloader = helper.get_ERM_dataloader(args, 'train')"
   ]
  },
  {
   "cell_type": "code",
   "execution_count": null,
   "metadata": {
    "scrolled": true
   },
   "outputs": [],
   "source": [
    "for step in range(args.num_steps):   \n",
    "    x, y = next(train_dataloader)\n",
    "    mini_batches = [x.to(device), y.to(device)]\n",
    "    step_vals = my_model.update(mini_batches)\n",
    "    if (step+1) % 20 == 0:\n",
    "        log_str = \"Step %d \" % (step+1)\n",
    "        for k, v in step_vals.items():\n",
    "            log_str = log_str + \"%s: %.4f, \" % (k, v)\n",
    "        print(log_str)\n",
    "\n",
    "    if (step+1) % 100 == 0:        \n",
    "        test_dataloader = helper.get_ERM_dataloader(args, 'test')        \n",
    "        accuracy = helper.test(my_model, test_dataloader, device)\n",
    "        print(\"ite: %d, test accuracy: %.4f\" % (step+1, accuracy))"
   ]
  },
  {
   "cell_type": "code",
   "execution_count": null,
   "metadata": {},
   "outputs": [],
   "source": []
  }
 ],
 "metadata": {
  "kernelspec": {
   "display_name": "Python 3",
   "language": "python",
   "name": "python3"
  },
  "language_info": {
   "codemirror_mode": {
    "name": "ipython",
    "version": 3
   },
   "file_extension": ".py",
   "mimetype": "text/x-python",
   "name": "python",
   "nbconvert_exporter": "python",
   "pygments_lexer": "ipython3",
   "version": "3.6.9"
  }
 },
 "nbformat": 4,
 "nbformat_minor": 2
}
